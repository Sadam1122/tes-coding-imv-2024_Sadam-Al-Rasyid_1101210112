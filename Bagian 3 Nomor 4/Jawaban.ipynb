{
 "cells": [
  {
   "cell_type": "code",
   "execution_count": 6,
   "metadata": {},
   "outputs": [],
   "source": [
    "import cv2 as cv\n",
    "\n",
    "img = cv.imread('haku.jpg')\n",
    "cv.imshow('haku', img)\n",
    "\n",
    "# Scaled\n",
    "average = cv.blur(img, (3,3))\n",
    "cv.imshow('Scaled Blur', average)\n",
    "\n",
    "# Gaussian Blur\n",
    "gauss = cv.GaussianBlur(img, (3,3), 0)\n",
    "cv.imshow('Gaussian Blur', gauss)\n",
    "\n",
    "while True:\n",
    "    key = cv.waitKey(1) & 0xFF\n",
    "    if key == ord('s'):  # Menutup jendela saat tombol 's' ditekan\n",
    "        break\n",
    "\n",
    "cv.destroyAllWindows()"
   ]
  }
 ],
 "metadata": {
  "kernelspec": {
   "display_name": "Python 3",
   "language": "python",
   "name": "python3"
  },
  "language_info": {
   "codemirror_mode": {
    "name": "ipython",
    "version": 3
   },
   "file_extension": ".py",
   "mimetype": "text/x-python",
   "name": "python",
   "nbconvert_exporter": "python",
   "pygments_lexer": "ipython3",
   "version": "3.12.3"
  }
 },
 "nbformat": 4,
 "nbformat_minor": 2
}
